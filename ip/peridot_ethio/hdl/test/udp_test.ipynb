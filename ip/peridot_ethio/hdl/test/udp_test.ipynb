{
 "cells": [
  {
   "cell_type": "code",
   "execution_count": 2,
   "metadata": {},
   "outputs": [
    {
     "name": "stdout",
     "output_type": "stream",
     "text": [
      "send packet : 41 56 4d 4d 54 00 00 08 10 00 00 00 7f 00 ff ff \n",
      "recv packet : 41 56 4d 4d d4 00 00 08 01 00 c0 72 25 02 2e 63 ff 00 00 00 \n",
      "System ID = 0x72c00001 , Build 2022-09-24 03:59:49\n"
     ]
    }
   ],
   "source": [
    "from socket import socket, AF_INET, SOCK_DGRAM\n",
    "from struct import *\n",
    "from datetime import *\n",
    "\n",
    "def print_bin(label, bin):\n",
    "\tprint(label, end=\" : \")\n",
    "\tfor i in bin:\n",
    "\t\tprint(format(i, \"02x\"), end=\" \")\n",
    "\tprint(\"\")\n",
    "\n",
    "# UDPソケット\n",
    "\n",
    "SOCKET_BUFFSIZE = 2048\n",
    "ETHIO_IPADDR = '192.168.1.203'\n",
    "ETHIO_UDPPORT = 16241\n",
    "sock = socket(AF_INET, SOCK_DGRAM)\n",
    "\n",
    "# リクエストパケット\n",
    "\n",
    "ETHIO_PACKET_FOURCC = b'AVMM'\n",
    "ETHIO_PACKET_ENDCMD = b'\\x7f\\x00\\xff\\xff'\n",
    "\n",
    "send_bin = ETHIO_PACKET_FOURCC + pack('!BxHL', 0x54, 8, 0x10000000) + ETHIO_PACKET_ENDCMD\n",
    "print_bin(\"send packet\", send_bin)\n",
    "\n",
    "# UDP送受信 \n",
    "\n",
    "sock.sendto(send_bin, (ETHIO_IPADDR, ETHIO_UDPPORT))\n",
    "res_bin, addr = sock.recvfrom(SOCKET_BUFFSIZE)\n",
    "\n",
    "# レスポンスパケット\n",
    "\n",
    "print_bin(\"recv packet\",res_bin)\n",
    "\n",
    "# PERIDOTのSystem IDペリフェラルの値を取り出す\n",
    "\n",
    "sysid, timestamp = unpack('LL', res_bin[8:16])\n",
    "dt = datetime.fromtimestamp(timestamp)\n",
    "print(\"System ID =\",hex(sysid),\", Build\",dt)\n",
    "\n",
    "sock.close()\n"
   ]
  }
 ],
 "metadata": {
  "kernelspec": {
   "display_name": "Python 3.9.12 ('base')",
   "language": "python",
   "name": "python3"
  },
  "language_info": {
   "codemirror_mode": {
    "name": "ipython",
    "version": 3
   },
   "file_extension": ".py",
   "mimetype": "text/x-python",
   "name": "python",
   "nbconvert_exporter": "python",
   "pygments_lexer": "ipython3",
   "version": "3.9.12"
  },
  "orig_nbformat": 4,
  "vscode": {
   "interpreter": {
    "hash": "2b75a13a3fc5e691bf71645d384f9cf06e1b02923ac00a4b35d696d35c94d2a1"
   }
  }
 },
 "nbformat": 4,
 "nbformat_minor": 2
}
